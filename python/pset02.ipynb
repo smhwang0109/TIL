{
 "cells": [
  {
   "cell_type": "markdown",
   "metadata": {},
   "source": [
    "## 보충 Q1.\n",
    "\n",
    "> 양수/음수/0의 비율을 각각 순서대로 출력하시오.\n",
    "\n",
    "```\n",
    "예시 입력)\n",
    "0 -1 3 5 \n",
    "\n",
    "예시 출력)\n",
    "0.5 0.25 0.25\n",
    "```\n",
    "\n"
   ]
  },
  {
   "cell_type": "code",
   "execution_count": 4,
   "metadata": {},
   "outputs": [
    {
     "name": "stdout",
     "output_type": "stream",
     "text": [
      "0 -1 3 5\n",
      "0.5 0.25 0.25 "
     ]
    }
   ],
   "source": [
    "numbers = input()\n",
    "# 아래에 코드를 작성하세요.\n",
    "nl = numbers.split()\n",
    "nl_count = [0, 0, 0]\n",
    "for case in nl:\n",
    "    if int(case) > 0:\n",
    "        nl_count[0] += 1\n",
    "    elif int(case) == 0:\n",
    "        nl_count[2] += 1\n",
    "    elif int(case) < 0:\n",
    "        nl_count[1] += 1\n",
    "\n",
    "for i in range(len(nl_count)):\n",
    "    print(nl_count[i]/len(nl), end=' ')"
   ]
  },
  {
   "cell_type": "code",
   "execution_count": 39,
   "metadata": {},
   "outputs": [
    {
     "name": "stdout",
     "output_type": "stream",
     "text": [
      "0 -1 3 5\n"
     ]
    }
   ],
   "source": [
    "numbers = input()\n",
    "\n",
    "number_list = []\n",
    "\n",
    "# 리스트 정수형으로 바꾸기\n",
    "# (1) for문\n",
    "for number in numbers.split():\n",
    "    number_list.append(int(number))\n",
    "\n",
    "# (2) map 함수\n",
    "method1 = list(map(int, numbers.split()))\n",
    "\n",
    "# (3) list comprehension\n",
    "method2 = [int(n) for n in numbers.split()]\n"
   ]
  },
  {
   "cell_type": "code",
   "execution_count": 42,
   "metadata": {},
   "outputs": [
    {
     "name": "stdout",
     "output_type": "stream",
     "text": [
      "0 -1 3 5\n",
      "0.5 0.25 0.25\n"
     ]
    }
   ],
   "source": [
    "# List comprehension version\n",
    "\n",
    "tc = input()\n",
    "\n",
    "numbers = [int(n) for n in tc.split()]\n",
    "\n",
    "total = len(numbers)\n",
    "positive = len([number for number in numbers if number > 0])\n",
    "negative = len([number for number in numbers if number < 0])\n",
    "zero = len([number for number in numbers if number == 0])\n",
    "\n",
    "print(positive / total, negative / total, zero / total)\n",
    "\n",
    "# List comprehension\n",
    "# - List를 순회하여, 특정 조건의 값들로 구성된 List를 만들 때"
   ]
  },
  {
   "cell_type": "markdown",
   "metadata": {},
   "source": [
    "## 보충 Q2.\n",
    "\n",
    "> justin과 neo가 카드게임을 하고 있다. 아래의 예시 값은 카드를 낸 순서이다. \n",
    ">\n",
    "> 숫자를 비교해서 같으면 0점, 숫자가 더 크면 1점이라고 할 때 justin과 neo의 점수를 순서대로 출력하시오.\n",
    "\n",
    "```\n",
    "예시 값)\n",
    "justin = [10, 6, 8, 2, 1]\n",
    "neo = [2, 7, 3, 5, 10]\n",
    "\n",
    "예시 출력)\n",
    "2 3\n",
    "```"
   ]
  },
  {
   "cell_type": "code",
   "execution_count": 46,
   "metadata": {},
   "outputs": [
    {
     "name": "stdout",
     "output_type": "stream",
     "text": [
      "2 3\n"
     ]
    }
   ],
   "source": [
    "justin = [10, 6, 8, 2, 1]\n",
    "neo = [2, 7, 3, 5, 10]\n",
    "j_s = 0\n",
    "n_s = 0\n",
    "\n",
    "# 아래에 코드를 작성하세요.\n",
    "for idx in range(len(justin)):\n",
    "    if justin[idx] > neo[idx]:\n",
    "        j_s += 1\n",
    "    elif justin[idx] < neo[idx]:\n",
    "        n_s += 1\n",
    "\n",
    "print('{} {}'.format(j_s, n_s))"
   ]
  },
  {
   "cell_type": "code",
   "execution_count": 47,
   "metadata": {},
   "outputs": [
    {
     "name": "stdout",
     "output_type": "stream",
     "text": [
      "2 3\n"
     ]
    }
   ],
   "source": [
    "justin = [10, 6, 8, 2, 1]\n",
    "neo = [2, 7, 3, 5, 10]\n",
    "j_s = 0\n",
    "n_s = 0\n",
    "\n",
    "for j,n in list(zip(justin, neo)):\n",
    "    if j > n:\n",
    "        j_s += 1\n",
    "    elif j < n:\n",
    "        n_s += 1\n",
    "\n",
    "\n",
    "print('{} {}'.format(j_s, n_s))"
   ]
  },
  {
   "cell_type": "markdown",
   "metadata": {},
   "source": [
    "## 보충 Q3.\n",
    "\n",
    "> 두 단어 중에 중복된 알파벳이 있는지 여부를 판단하여 True 혹은 False를 반환하시오.\n",
    "\n",
    "```\n",
    "예시 입력)\n",
    "print(is_contain_same_alphabet('my', 'sweet home'))\n",
    "print(is_contain_same_alphabet('oreo', 'kikat'))\n",
    "\n",
    "예시 출력)\n",
    "True\n",
    "False\n",
    "```"
   ]
  },
  {
   "cell_type": "code",
   "execution_count": 50,
   "metadata": {},
   "outputs": [
    {
     "name": "stdout",
     "output_type": "stream",
     "text": [
      "True\n",
      "False\n"
     ]
    }
   ],
   "source": [
    "# (1)\n",
    "\n",
    "def is_contain_same_alphabet(a, b):\n",
    "    for alpha1 in a:\n",
    "        for alpha2 in b:\n",
    "            if alpha1 == alpha2:\n",
    "                result = True\n",
    "                break\n",
    "            else:\n",
    "                result = False\n",
    "        if alpha1 == alpha2:\n",
    "            break\n",
    "    return result\n",
    "    # 아래에 코드를 작성하시오.\n",
    "\n",
    "print(is_contain_same_alphabet('my','sweet home'))\n",
    "print(is_contain_same_alphabet('oreo','kikat'))"
   ]
  },
  {
   "cell_type": "code",
   "execution_count": 51,
   "metadata": {},
   "outputs": [
    {
     "name": "stdout",
     "output_type": "stream",
     "text": [
      "True\n",
      "False\n"
     ]
    }
   ],
   "source": [
    "# (2)\n",
    "\n",
    "def is_contain_same_alphabet(a, b):\n",
    "    for alpha1 in a:\n",
    "        for alpha2 in b:\n",
    "            if alpha1 == alpha2:\n",
    "                return True\n",
    "    return False\n",
    "    # 아래에 코드를 작성하시오.\n",
    "\n",
    "print(is_contain_same_alphabet('my','sweet home'))\n",
    "print(is_contain_same_alphabet('oreo','kikat'))"
   ]
  },
  {
   "cell_type": "code",
   "execution_count": 52,
   "metadata": {},
   "outputs": [
    {
     "name": "stdout",
     "output_type": "stream",
     "text": [
      "True\n",
      "False\n"
     ]
    }
   ],
   "source": [
    "# (3)\n",
    "\n",
    "def is_contain_same_alphabet(a, b):\n",
    "    for char in a:\n",
    "        if char in b:\n",
    "            return True\n",
    "    return False\n",
    "print(is_contain_same_alphabet('my','sweet home'))\n",
    "print(is_contain_same_alphabet('oreo','kikat'))"
   ]
  }
 ],
 "metadata": {
  "kernelspec": {
   "display_name": "Python 3",
   "language": "python",
   "name": "python3"
  },
  "language_info": {
   "codemirror_mode": {
    "name": "ipython",
    "version": 3
   },
   "file_extension": ".py",
   "mimetype": "text/x-python",
   "name": "python",
   "nbconvert_exporter": "python",
   "pygments_lexer": "ipython3",
   "version": "3.7.3"
  }
 },
 "nbformat": 4,
 "nbformat_minor": 2
}
